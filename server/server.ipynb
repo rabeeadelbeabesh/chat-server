{
 "cells": [
  {
   "cell_type": "code",
   "execution_count": null,
   "metadata": {},
   "outputs": [
    {
     "name": "stdout",
     "output_type": "stream",
     "text": [
      "server is working on 192.168.1.6\n",
      "new connection ('192.168.1.6', 56094)\n",
      "active connections 5\n",
      "new connection ('192.168.1.6', 56151)active connections 6\n",
      "\n",
      "new connection ('192.168.1.6', 56249)active connections 7\n",
      "\n",
      "b'[0, 400, 1000, 400, 7, 4, 11, 11, 14]'\n",
      "b'[17, 0, 1, 4, 4, 400, 1000, 400, 7, 4, 11, 11, 14, 400, 0]'\n",
      "b'[0, 400, 1000, 400, 7, 14, 22, 400, 0, 17, 4, 400, 24, 14, 20, 400]'\n",
      "b'[17, 0, 1, 4, 4, 400, 1000, 400, 8, 0, 12, 400, 5, 8, 13, 400]'\n"
     ]
    }
   ],
   "source": [
    "import socket \n",
    "import threading \n",
    "PORT = 5000\n",
    "SERVER = socket.gethostbyname(socket.gethostname()) \n",
    "ADDRESS = (SERVER, PORT) \n",
    "FORMAT = \"utf-8\"\n",
    "clients, names = [], [] \n",
    "server = socket.socket(socket.AF_INET, socket.SOCK_STREAM) \n",
    "server.bind(ADDRESS) \n",
    "def startChat(): \n",
    "    print(\"server is working on \" + SERVER) \n",
    "    server.listen() \n",
    "    while True:    \n",
    "        conn, addr = server.accept() \n",
    "        conn.send(\"NAME\".encode(FORMAT)) \n",
    "        name = conn.recv(1024).decode(FORMAT) \n",
    "        names.append(name) \n",
    "        clients.append(conn) \n",
    "        broadcastMessage(f\"{name} has joined the chat!\".encode(FORMAT)) \n",
    "        conn.send('Connection successful!'.encode(FORMAT)) \n",
    "        thread = threading.Thread(target = Mange, args = (conn, addr)) \n",
    "        thread.start() \n",
    "        print(f\"active connections {threading.activeCount()-1}\") \n",
    "        \n",
    "def Mange(conn, addr): \n",
    "    print(f\"new connection {addr}\") \n",
    "    connected = True\n",
    "    while connected: \n",
    "        message = conn.recv(1024) \n",
    "        print(message)\n",
    "        broadcastMessage(message) \n",
    "    conn.close() \n",
    "def broadcastMessage(message): \n",
    "    for client in clients: \n",
    "        client.send(message)      \n",
    "startChat() "
   ]
  },
  {
   "cell_type": "code",
   "execution_count": null,
   "metadata": {},
   "outputs": [],
   "source": []
  },
  {
   "cell_type": "code",
   "execution_count": null,
   "metadata": {},
   "outputs": [],
   "source": []
  },
  {
   "cell_type": "code",
   "execution_count": null,
   "metadata": {},
   "outputs": [],
   "source": []
  }
 ],
 "metadata": {
  "kernelspec": {
   "display_name": "Python 3",
   "language": "python",
   "name": "python3"
  },
  "language_info": {
   "codemirror_mode": {
    "name": "ipython",
    "version": 3
   },
   "file_extension": ".py",
   "mimetype": "text/x-python",
   "name": "python",
   "nbconvert_exporter": "python",
   "pygments_lexer": "ipython3",
   "version": "3.8.3"
  }
 },
 "nbformat": 4,
 "nbformat_minor": 4
}
